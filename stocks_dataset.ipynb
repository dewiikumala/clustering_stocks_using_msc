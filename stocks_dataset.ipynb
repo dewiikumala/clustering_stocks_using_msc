{
  "cells": [
    {
      "cell_type": "code",
      "execution_count": 2,
      "metadata": {
        "colab": {
          "base_uri": "https://localhost:8080/"
        },
        "id": "yZrEv1yM88kn",
        "outputId": "92956b5b-5c4d-4638-b76a-7e17c98c949d"
      },
      "outputs": [
        {
          "name": "stderr",
          "output_type": "stream",
          "text": [
            "\r[*********************100%%**********************]  1 of 1 completed\n"
          ]
        }
      ],
      "source": [
        "import yfinance as yf  # pip install yfinance\n",
        "import pandas as pd  # pip install pandas\n",
        "\n",
        "# Change the period\n",
        "start = \"2015-10-2\" #yy-mm-dd\n",
        "end= \"2016-11-30\"\n",
        "\n",
        "# choose interval\n",
        "# 1d,5d,1wk,1mo,3mo (daily, weekly, monthly)\n",
        "interval = '1d'\n",
        "\n",
        "# Choose the stocks\n",
        "# if you want multiple stocks in one excel, just use space to separate the stocks,\n",
        "# example 'BBCA.JK BBRI.JK BBNI.JK' (indonesian stocks)\n",
        "saham = 'BBCA.JK'\n",
        "\n",
        "# DONT CHANGE THIS\n",
        "tickers = saham\n",
        "df = yf.download(tickers,\n",
        "                   start=start,\n",
        "                   end=end,\n",
        "                 interval=interval)\n",
        "df.index = df.index.strftime('%Y-%m-%d')\n",
        "df.to_excel('{}.xlsx'.format(saham)) #download excel ver\n",
        "# df.to_csv('{}.xlsx'.format(saham)) #download csv ver"
      ]
    }
  ],
  "metadata": {
    "colab": {
      "provenance": []
    },
    "kernelspec": {
      "display_name": "Python 3",
      "name": "python3"
    },
    "language_info": {
      "name": "python"
    }
  },
  "nbformat": 4,
  "nbformat_minor": 0
}
